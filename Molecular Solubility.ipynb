{
 "cells": [
  {
   "cell_type": "code",
   "execution_count": null,
   "metadata": {
    "id": "ZevvLDjT7rMD"
   },
   "outputs": [],
   "source": [
    "import numpy as np\n",
    "import random\n",
    "import matplotlib.pyplot as plt\n",
    "from pysmiles import read_smiles\n",
    "import pandas as pd\n",
    "import logging\n",
    "from tqdm import tqdm\n",
    "import torch\n",
    "from torch.nn import Sequential as Seq, Linear, ReLU, CrossEntropyLoss\n",
    "import torch.nn.functional as F\n",
    "from torch_geometric.nn import MessagePassing, GCNConv\n",
    "from torch_geometric.utils import remove_self_loops, add_self_loops, degree\n",
    "from torch_geometric.data import Data\n",
    "\n",
    "logging.getLogger('pysmiles').setLevel(logging.CRITICAL)  # Anything higher than warning"
   ]
  },
  {
   "cell_type": "code",
   "execution_count": null,
   "metadata": {
    "colab": {
     "base_uri": "https://localhost:8080/",
     "height": 69
    },
    "id": "n-Hysr12791c",
    "outputId": "a929a4c1-58ec-43fd-87e8-552ccc517ecd"
   },
   "outputs": [],
   "source": [
    "df = pd.read_csv('dataset.csv') #read dataset (https://dataverse.harvard.edu/dataset.xhtml?persistentId=doi:10.7910/DVN/OVHAW8)\n",
    "X_smiles = list(df['SMILES']) #get smiles strings from file\n",
    "Y = np.asarray(df['Solubility']) #get solubility values from file\n",
    "\n",
    "elements = ['K', 'Y', 'V', 'Sm', 'Dy', 'In', 'Lu', 'Hg', 'Co', 'Mg',    #list of all elements in the dataset\n",
    "            'Cu', 'Rh', 'Hf', 'O', 'As', 'Ge', 'Au', 'Mo', 'Br', 'Ce', \n",
    "            'Zr', 'Ag', 'Ba', 'N', 'Cr', 'Sr', 'Fe', 'Gd', 'I', 'Al', \n",
    "            'B', 'Se', 'Pr', 'Te', 'Cd', 'Pd', 'Si', 'Zn', 'Pb', 'Sn', \n",
    "            'Cl', 'Mn', 'Cs', 'Na', 'S', 'Ti', 'Ni', 'Ru', 'Ca', 'Nd', \n",
    "            'W', 'H', 'Li', 'Sb', 'Bi', 'La', 'Pt', 'Nb', 'P', 'F', 'C']\n",
    "\n",
    "#convert element to a one-hot vector of dimension len(elements)\n",
    "def element_to_onehot(element):\n",
    "    out = []\n",
    "    for i in range(0, len(element)):\n",
    "        v = np.zeros(len(elements))\n",
    "        v[elements.index(element[i])] = 1.0\n",
    "        out.append(v)\n",
    "    return np.asarray(out)\n",
    "\n",
    "#convert solubility value to one-hot class vector\n",
    "def val_to_class(val):\n",
    "    if val < -3.65: #insoluble\n",
    "        return [1, 0, 0]\n",
    "    elif val < -1.69: #slightly soluble\n",
    "        return [0, 1, 0]\n",
    "    else: #soluble\n",
    "        return [0, 0, 1]\n",
    "\n",
    "#process SMILES strings into graphs\n",
    "nodes = []\n",
    "edge_index = []\n",
    "for smiles in tqdm(X_smiles):\n",
    "    try:\n",
    "        G = read_smiles(smiles, explicit_hydrogen=True)\n",
    "        feature = element_to_onehot(np.asarray(G.nodes(data='element'))[:, 1])\n",
    "        edges = np.asarray(G.edges)\n",
    "        index = np.asarray([edges[:,0], edges[:,1]]) #reshape indices into shape [2, -1]\n",
    "        nodes.append(feature)\n",
    "        edge_index.append(index)\n",
    "    except:\n",
    "        pass"
   ]
  },
  {
   "cell_type": "code",
   "execution_count": null,
   "metadata": {
    "colab": {
     "base_uri": "https://localhost:8080/"
    },
    "id": "fXcJSQmn9ebx",
    "outputId": "257a8d9f-4a04-46be-cb49-01d2a719772f"
   },
   "outputs": [],
   "source": [
    "#Generate Data objects\n",
    "data = list()\n",
    "\n",
    "#process graphs into torch_geometric Data objects\n",
    "for i in tqdm(range(0, len(nodes))):\n",
    "    x = torch.tensor(nodes[i], dtype=torch.float) #convert node features into torch tensor\n",
    "    edges = torch.tensor(edge_index[i], dtype=torch.long) #convert edge index into torch tensor\n",
    "    y = torch.tensor([val_to_class(Y[i])], dtype=torch.float) #change shape of label and convert to tensor\n",
    "    data.append(Data(x=x,edge_index=edges, y=y)) #add the Data object to the list of data\n",
    "random.shuffle(data)\n",
    "train = data[:int(len(data)*0.8)] #train set\n",
    "test = data[int(len(data)*0.8):] #val set\n",
    "train = data"
   ]
  },
  {
   "cell_type": "code",
   "execution_count": null,
   "metadata": {
    "id": "SsXl2-Z9kIl2"
   },
   "outputs": [],
   "source": [
    "#define the message passing network\n",
    "class Net(torch.nn.Module):\n",
    "    def __init__(self):\n",
    "        super(Net, self).__init__()\n",
    "        self.conv1 = GCNConv(61, 32)\n",
    "        self.conv2 = GCNConv(32, 32)\n",
    "        self.conv3 = GCNConv(32, 32)\n",
    "        self.conv4 = GCNConv(32, 32)\n",
    "        self.lin1 = Linear(32, 16)\n",
    "        self.lin2 = Linear(16, 3)\n",
    "\n",
    "    def forward(self, data):\n",
    "        x, edge_index= data.x, data.edge_index\n",
    "\n",
    "        x = self.conv1(x, edge_index)\n",
    "        x = F.relu(x)\n",
    "        x = F.dropout(x, p=0.25, training=self.training)\n",
    "        \n",
    "        x = self.conv2(x, edge_index)\n",
    "        x = F.relu(x)\n",
    "        x = F.dropout(x, p=0.25, training=self.training)\n",
    "        \n",
    "        x = self.conv3(x, edge_index)\n",
    "        x = F.relu(x)\n",
    "        x = F.dropout(x, p=0.25, training=self.training)\n",
    "        \n",
    "        x = self.conv4(x, edge_index)\n",
    "        x = F.relu(x)\n",
    "        \n",
    "        x = torch.sum(x, dim=0)\n",
    "        x = self.lin1(x)\n",
    "        x = F.relu(x)\n",
    "        \n",
    "        x = self.lin2(x)\n",
    "        \n",
    "\n",
    "        return x"
   ]
  },
  {
   "cell_type": "code",
   "execution_count": null,
   "metadata": {},
   "outputs": [],
   "source": [
    "#set up device and create model\n",
    "device = torch.device('cuda' if torch.cuda.is_available() else 'cpu') #use CUDA if available\n",
    "model = Net().to(device) #create network and send to the device memory\n",
    "optimizer = torch.optim.Adam(model.parameters(), lr=0.001, weight_decay=1e-4) #use Adam optimizer\n",
    "CSE = CrossEntropyLoss() #define loss"
   ]
  },
  {
   "cell_type": "code",
   "execution_count": null,
   "metadata": {
    "colab": {
     "base_uri": "https://localhost:8080/"
    },
    "id": "OruDaljhkJo1",
    "outputId": "d8e01387-84e6-444d-b3d7-531a6a6d5f9d"
   },
   "outputs": [],
   "source": [
    "#train model\n",
    "model.train() #set model to training mode\n",
    "for epoch in range(2): #run for epochs of training\n",
    "    sum_loss = 0 #used to compute average loss in an epoch\n",
    "    num_correct = 0\n",
    "    random.shuffle(train) #shuffle the training data each epoch\n",
    "    for d in tqdm(train): #go over each training point\n",
    "        data = d.to(device) #send data to device\n",
    "        optimizer.zero_grad() #zero gradients\n",
    "        out = model(data) #evaluate data point\n",
    "        if torch.argmax(out) == torch.argmax(data.y): #if prediction is correct, increment counter for accuracy calculation\n",
    "            num_correct += 1\n",
    "        loss = CSE(torch.reshape(out, [1, 3]), torch.reshape(torch.argmax(data.y),[1])) #compute mean squared error loss\n",
    "        sum_loss += float(loss) #add loss value to aggregate loss\n",
    "        loss.backward() #compute gradients\n",
    "        optimizer.step() #apply optimization\n",
    "    print('Epoch: {:03d}, Average loss: {:.5f}, Accuracy: {:.5f}'.format(epoch, sum_loss/len(train), num_correct/len(train)))"
   ]
  },
  {
   "cell_type": "code",
   "execution_count": null,
   "metadata": {},
   "outputs": [],
   "source": [
    "#test the model and display a histogram of the outputs\n",
    "num_correct = 0\n",
    "model.eval()\n",
    "predictions = list()\n",
    "for t in tqdm(test):\n",
    "    d = t.to(device)\n",
    "    out = model(d)\n",
    "    if torch.argmax(out) == torch.argmax(d.y): #if prediction is correct, increment counter for accuracy calculation\n",
    "            num_correct += 1\n",
    "    predictions.append(torch.argmax(out).item())\n",
    "    \n",
    "print(\"Test accuracy: \" + str(num_correct/len(test)))\n",
    "plt.hist(predictions, bins=3)"
   ]
  },
  {
   "cell_type": "code",
   "execution_count": null,
   "metadata": {
    "id": "zTq0pyD8kLPD"
   },
   "outputs": [],
   "source": [
    "#test SMILES string\n",
    "def evaluate_smiles(smiles_string):\n",
    "    classes = ['insoluble', 'slightly soluble', 'soluble']\n",
    "    G = read_smiles(smiles_string, explicit_hydrogen=True) #decode smiles string\n",
    "    feature = element_to_onehot(np.asarray(G.nodes(data='element'))[:, 1]) #convert element to one-hot vector\n",
    "    edges = np.asarray(G.edges) #get edge array\n",
    "    index = np.asarray([edges[:,0], edges[:,1]]) #reformat edge array to torch geometric suitable format\n",
    "    d = Data(x=torch.tensor(feature, dtype=torch.float),edge_index=torch.tensor(index, dtype=torch.long)) #create torch gemoetry Data object\n",
    "    data = d.to(device) #send data to device memory\n",
    "    model.eval() #set model to evaluate mode\n",
    "    print(classes[torch.argmax(torch.softmax(model(data), dim=0)).item()]) #evaluate the test data"
   ]
  },
  {
   "cell_type": "code",
   "execution_count": null,
   "metadata": {},
   "outputs": [],
   "source": [
    "evaluate_smiles('C(C(C1C(=C(C(=O)O1)O)O)O)O') #test out the model on Vitamin C"
   ]
  }
 ],
 "metadata": {
  "colab": {
   "name": "PyTorch Test.ipynb",
   "provenance": []
  },
  "kernelspec": {
   "display_name": "Python 3",
   "language": "python",
   "name": "python3"
  },
  "language_info": {
   "codemirror_mode": {
    "name": "ipython",
    "version": 3
   },
   "file_extension": ".py",
   "mimetype": "text/x-python",
   "name": "python",
   "nbconvert_exporter": "python",
   "pygments_lexer": "ipython3",
   "version": "3.6.4"
  }
 },
 "nbformat": 4,
 "nbformat_minor": 1
}
